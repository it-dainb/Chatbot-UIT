{
 "cells": [
  {
   "cell_type": "code",
   "execution_count": 1,
   "metadata": {},
   "outputs": [],
   "source": [
    "from core.config.config import get_config"
   ]
  },
  {
   "cell_type": "code",
   "execution_count": 2,
   "metadata": {},
   "outputs": [
    {
     "data": {
      "text/plain": [
       "True"
      ]
     },
     "execution_count": 2,
     "metadata": {},
     "output_type": "execute_result"
    }
   ],
   "source": [
    "import os\n",
    "from dotenv import load_dotenv\n",
    "\n",
    "load_dotenv()"
   ]
  },
  {
   "cell_type": "code",
   "execution_count": 3,
   "metadata": {},
   "outputs": [
    {
     "name": "stderr",
     "output_type": "stream",
     "text": [
      "c:\\ProgramData\\miniconda3\\envs\\cb_uit\\lib\\site-packages\\tqdm\\auto.py:21: TqdmWarning: IProgress not found. Please update jupyter and ipywidgets. See https://ipywidgets.readthedocs.io/en/stable/user_install.html\n",
      "  from .autonotebook import tqdm as notebook_tqdm\n"
     ]
    }
   ],
   "source": [
    "from llama_index.core import Settings\n",
    "from llama_index.llms.openai import OpenAI\n",
    "\n",
    "Settings.llm = OpenAI(\n",
    "    model=\"gpt-3.5-turbo\", \n",
    "    temperature=0.0,\n",
    "    api_key=os.getenv(\"api_key\"),\n",
    "    api_version=os.getenv(\"api_version\"),\n",
    ")"
   ]
  },
  {
   "cell_type": "code",
   "execution_count": 4,
   "metadata": {},
   "outputs": [
    {
     "name": "stderr",
     "output_type": "stream",
     "text": [
      "The ONNX file model_optimized_quantized.onnx is not a regular name used in optimum.onnxruntime, the ORTModel might not behave as expected.\n"
     ]
    }
   ],
   "source": [
    "from llama_index.embeddings.huggingface_optimum import OptimumEmbedding\n",
    "from pathlib import Path\n",
    "from transformers import AutoTokenizer\n",
    "\n",
    "embed_path = str(Path(\n",
    "    get_config(\"Path\", \"model\"),\n",
    "    get_config(\"Model\", \"embed\")\n",
    "))\n",
    "\n",
    "tokenizer = AutoTokenizer.from_pretrained(embed_path)\n",
    "tokenizer.model_input_names = [\"input_ids\", \"attention_mask\"]\n",
    "\n",
    "Settings.embed_model = OptimumEmbedding(\n",
    "    folder_name=embed_path,\n",
    "    tokenizer=tokenizer,\n",
    "    pooling='mean',\n",
    "    max_length=256\n",
    ")"
   ]
  },
  {
   "cell_type": "code",
   "execution_count": 5,
   "metadata": {},
   "outputs": [],
   "source": [
    "from llama_index.vector_stores.chroma import ChromaVectorStore\n",
    "from llama_index.core import StorageContext, VectorStoreIndex\n",
    "from llama_index.retrievers.bm25 import BM25Retriever\n",
    "\n",
    "import chromadb\n",
    "from unidecode import unidecode\n",
    "import joblib\n",
    "from os import path"
   ]
  },
  {
   "cell_type": "code",
   "execution_count": 6,
   "metadata": {},
   "outputs": [],
   "source": [
    "path_index = get_config(\"Path\", \"Index\")\n",
    "\n",
    "chroma_client = chromadb.PersistentClient(path_index)\n",
    "nodes_dict = joblib.load(path.join(path_index, \"nodes_dict.pkl\"))"
   ]
  },
  {
   "cell_type": "code",
   "execution_count": 7,
   "metadata": {},
   "outputs": [],
   "source": [
    "\n",
    "from llama_index.core.retrievers import RecursiveRetriever\n",
    "\n",
    "def get_retriever(intent, top_vector=10, top_bm25=None, **kargs):\n",
    "    \"\"\"\n",
    "     @brief Create a retriever for a given intent. It is used to retrieve documents that are similar to the intent's one or more documents.\n",
    "     @param intent The intent to use for the retrieval.\n",
    "     @param top_vector The number of documents to retrieve.\n",
    "     @param top_bm25 The BM25 similarity to use.\n",
    "     @return An instance of : class : ` skbio. core. retriever. Retriever `. Note that this will be a : class\n",
    "    \"\"\"\n",
    "    clean_intent = unidecode(intent.lower())\n",
    "    path_save = path.join(get_config(\"Path\", \"Index\"), clean_intent)\n",
    "    \n",
    "    storage_context = StorageContext.from_defaults(\n",
    "        vector_store=ChromaVectorStore(\n",
    "            chroma_collection=chroma_client.get_or_create_collection(clean_intent)\n",
    "        ),\n",
    "        persist_dir=path_save,\n",
    "    )\n",
    "    \n",
    "    index = VectorStoreIndex(\n",
    "        nodes = [],\n",
    "        storage_context = storage_context\n",
    "    )\n",
    "\n",
    "    # Set the top vector to the vector if not set yet.\n",
    "    if not top_bm25:\n",
    "        top_bm25 = top_vector\n",
    "\n",
    "    vector_retriever = RecursiveRetriever(\n",
    "        \"root\",\n",
    "        retriever_dict={\n",
    "            \"root\": index.as_retriever(similarity_top_k=top_vector, **kargs),\n",
    "        },\n",
    "        node_dict=nodes_dict[intent],\n",
    "        verbose=True,\n",
    "    )\n",
    "    \n",
    "    bm25_retriever = BM25Retriever.from_defaults(similarity_top_k=top_bm25, docstore=storage_context.docstore, verbose=True)\n",
    "    \n",
    "    return vector_retriever, bm25_retriever"
   ]
  },
  {
   "cell_type": "code",
   "execution_count": 8,
   "metadata": {},
   "outputs": [
    {
     "name": "stdout",
     "output_type": "stream",
     "text": [
      "\u001b[1;3;34mRetrieving with query id None: Điểm chuẩn ngành Khoa học máy tính 2022\n",
      "\u001b[0m"
     ]
    },
    {
     "name": "stderr",
     "output_type": "stream",
     "text": [
      "BM25Retriever does not support embeddings, skipping...\n"
     ]
    },
    {
     "name": "stdout",
     "output_type": "stream",
     "text": [
      "\u001b[1;3;38;5;200mRetrieved node with id, entering: f974aa51-71b3-45f2-9bc9-e90c75328f07\n",
      "\u001b[0m\u001b[1;3;34mRetrieving with query id f974aa51-71b3-45f2-9bc9-e90c75328f07: Điểm chuẩn ngành Khoa học máy tính 2022\n",
      "\u001b[0m\u001b[1;3;38;5;200mRetrieved node with id, entering: 23cccb5a-47f0-4d0a-9f14-5698e728ebdc\n",
      "\u001b[0m\u001b[1;3;34mRetrieving with query id 23cccb5a-47f0-4d0a-9f14-5698e728ebdc: Điểm chuẩn ngành Khoa học máy tính 2022\n",
      "\u001b[0m\u001b[1;3;38;5;200mRetrieved node with id, entering: aef20c66-bc37-4bd5-ae7f-b3d3ac15d6fb\n",
      "\u001b[0m\u001b[1;3;34mRetrieving with query id aef20c66-bc37-4bd5-ae7f-b3d3ac15d6fb: Điểm chuẩn ngành Khoa học máy tính 2022\n",
      "\u001b[0m\u001b[1;3;38;5;200mRetrieved node with id, entering: aacc196e-64ba-4092-a560-5b92a45e8eb6\n",
      "\u001b[0m\u001b[1;3;34mRetrieving with query id aacc196e-64ba-4092-a560-5b92a45e8eb6: Điểm chuẩn ngành Khoa học máy tính 2022\n",
      "\u001b[0m\u001b[1;3;38;5;200mRetrieved node with id, entering: 93378231-34cf-480d-a2f8-1405e72ac165\n",
      "\u001b[0m\u001b[1;3;34mRetrieving with query id 93378231-34cf-480d-a2f8-1405e72ac165: Điểm chuẩn ngành Khoa học máy tính 2022\n",
      "\u001b[0m\u001b[1;3;38;5;200mRetrieved node with id, entering: 0b3a1557-53d7-4a44-8793-ac0cfddf2dcc\n",
      "\u001b[0m\u001b[1;3;34mRetrieving with query id 0b3a1557-53d7-4a44-8793-ac0cfddf2dcc: Điểm chuẩn ngành Khoa học máy tính 2022\n",
      "\u001b[0m"
     ]
    },
    {
     "data": {
      "text/plain": [
       "[NodeWithScore(node=TextNode(id_='f974aa51-71b3-45f2-9bc9-e90c75328f07', embedding=None, metadata={'pattern': 'hỏi_đáp_điểm_chuẩn|thpt|khmt|năm_2022'}, excluded_embed_metadata_keys=[], excluded_llm_metadata_keys=['pattern'], relationships={}, text='Điểm chuẩn ngành Khoa học máy tính năm 2022 là 27.1', start_char_idx=None, end_char_idx=None, text_template='{metadata_str}\\n\\n{content}', metadata_template='{key}: {value}', metadata_seperator='\\n'), score=7.6672528050333275),\n",
       " NodeWithScore(node=TextNode(id_='aef20c66-bc37-4bd5-ae7f-b3d3ac15d6fb', embedding=None, metadata={'pattern': 'hỏi_đáp_điểm_chuẩn|dgnl|khmt|năm_2022'}, excluded_embed_metadata_keys=[], excluded_llm_metadata_keys=['pattern'], relationships={}, text='Điểm chuẩn ĐGNL năm 2022 ngành Khoa học máy tính là 888', start_char_idx=None, end_char_idx=None, text_template='{metadata_str}\\n\\n{content}', metadata_template='{key}: {value}', metadata_seperator='\\n'), score=7.6672528050333275),\n",
       " NodeWithScore(node=TextNode(id_='93378231-34cf-480d-a2f8-1405e72ac165', embedding=None, metadata={'pattern': 'hỏi_đáp_điểm_chuẩn|thpt|khmt|năm_2021'}, excluded_embed_metadata_keys=[], excluded_llm_metadata_keys=['pattern'], relationships={}, text='điểm chuẩn ngành Khoa học máy tính năm 2021 là 27.3', start_char_idx=None, end_char_idx=None, text_template='{metadata_str}\\n\\n{content}', metadata_template='{key}: {value}', metadata_seperator='\\n'), score=7.110022193404564),\n",
       " NodeWithScore(node=TextNode(id_='23cccb5a-47f0-4d0a-9f14-5698e728ebdc', embedding=None, metadata={'pattern': 'hỏi_đáp_điểm_chuẩn|thpt|khmt|ttnt|năm_2022'}, excluded_embed_metadata_keys=[], excluded_llm_metadata_keys=['pattern'], relationships={}, text='Điểm chuẩn ngành Khoa học máy tính năm 2022 hướng Trí tuệ nhân tạo là 28', start_char_idx=None, end_char_idx=None, text_template='{metadata_str}\\n\\n{content}', metadata_template='{key}: {value}', metadata_seperator='\\n'), score=6.798090543734003),\n",
       " NodeWithScore(node=TextNode(id_='aacc196e-64ba-4092-a560-5b92a45e8eb6', embedding=None, metadata={'pattern': 'hỏi_đáp_điểm_chuẩn|dgnl|khmt|ttnt|năm_2022'}, excluded_embed_metadata_keys=[], excluded_llm_metadata_keys=['pattern'], relationships={}, text='Điểm chuẩn ĐGNL năm 2022 ngành Khoa học máy tính hướng Trí tuệ nhân tạo là 940', start_char_idx=None, end_char_idx=None, text_template='{metadata_str}\\n\\n{content}', metadata_template='{key}: {value}', metadata_seperator='\\n'), score=6.610741591741332),\n",
       " NodeWithScore(node=TextNode(id_='466a4048-b647-464d-99d9-fbbef0152130', embedding=None, metadata={'pattern': 'hỏi_đáp_điểm_chuẩn|thpt|khmt|clc|năm_2021'}, excluded_embed_metadata_keys=[], excluded_llm_metadata_keys=['pattern'], relationships={}, text='Điểm chuẩn ngành Khoa học máy tính Chất lượng cao năm 2021 là 26.75', start_char_idx=None, end_char_idx=None, text_template='{metadata_str}\\n\\n{content}', metadata_template='{key}: {value}', metadata_seperator='\\n'), score=6.487895251481664),\n",
       " NodeWithScore(node=TextNode(id_='b4a39ef6-0f7f-4a50-8e3d-e330d1d4dc49', embedding=None, metadata={'pattern': 'hỏi_đáp_điểm_chuẩn|dgnl|khdl|năm_2022'}, excluded_embed_metadata_keys=[], excluded_llm_metadata_keys=['pattern'], relationships={}, text='Điểm chuẩn ĐGNL năm 2022 ngành Khoa học dữ liệu là 880', start_char_idx=None, end_char_idx=None, text_template='{metadata_str}\\n\\n{content}', metadata_template='{key}: {value}', metadata_seperator='\\n'), score=6.177854630164679),\n",
       " NodeWithScore(node=TextNode(id_='62169517-3883-4eab-a87e-02bf72999c4d', embedding=None, metadata={'pattern': 'hỏi_đáp_điểm_chuẩn|thpt|khdl|năm_2022'}, excluded_embed_metadata_keys=[], excluded_llm_metadata_keys=['pattern'], relationships={}, text='Điểm chuẩn ngành Khoa học dữ liệu năm 2022 là 27.05', start_char_idx=None, end_char_idx=None, text_template='{metadata_str}\\n\\n{content}', metadata_template='{key}: {value}', metadata_seperator='\\n'), score=6.177854630164679),\n",
       " NodeWithScore(node=TextNode(id_='23d1868b-b270-45d6-ad5b-2b3011175e21', embedding=None, metadata={'pattern': 'hỏi_đáp_điểm_chuẩn|dgnl|khmt|năm_2021'}, excluded_embed_metadata_keys=[], excluded_llm_metadata_keys=['pattern'], relationships={}, text='Điểm xét tuyển ĐGNL năm 2021 ngành Khoa học máy tính là 920', start_char_idx=None, end_char_idx=None, text_template='{metadata_str}\\n\\n{content}', metadata_template='{key}: {value}', metadata_seperator='\\n'), score=6.14363903406157),\n",
       " NodeWithScore(node=TextNode(id_='0b3a1557-53d7-4a44-8793-ac0cfddf2dcc', embedding=None, metadata={'pattern': 'hỏi_đáp_điểm_chuẩn|thpt|khmt|ttnt|năm_2021'}, excluded_embed_metadata_keys=[], excluded_llm_metadata_keys=['pattern'], relationships={}, text='điểm chuẩn ngành Khoa học máy tính (HƯỚNG TRÍ TUỆ NHÂN TẠO) năm 2021 là 27.5', start_char_idx=None, end_char_idx=None, text_template='{metadata_str}\\n\\n{content}', metadata_template='{key}: {value}', metadata_seperator='\\n'), score=6.130294725809446)]"
      ]
     },
     "execution_count": 8,
     "metadata": {},
     "output_type": "execute_result"
    }
   ],
   "source": [
    "from llama_index.core.retrievers import QueryFusionRetriever\n",
    "\n",
    "intent = \"hỏi_đáp_điểm_chuẩn\"\n",
    "\n",
    "vector_retriever, bm25_retriever = get_retriever(intent, top_vector=10)\n",
    "\n",
    "retriever = QueryFusionRetriever(\n",
    "    [vector_retriever, bm25_retriever],\n",
    "    similarity_top_k=None,\n",
    "    num_queries=1,  # set this to 1 to disable query generation\n",
    "    use_async=False,\n",
    "    verbose=True,\n",
    "    # query_gen_prompt=\"...\",  # we could override the query generation prompt here\n",
    ")\n",
    "\n",
    "retriever.retrieve(\"Điểm chuẩn ngành Khoa học máy tính 2022\")"
   ]
  },
  {
   "cell_type": "code",
   "execution_count": 9,
   "metadata": {},
   "outputs": [],
   "source": [
    "from llama_index.core.query_engine import RetrieverQueryEngine\n",
    "\n",
    "query_engine = RetrieverQueryEngine(retriever)"
   ]
  },
  {
   "cell_type": "code",
   "execution_count": 47,
   "metadata": {},
   "outputs": [],
   "source": [
    "from llama_index.core.chat_engine import ContextChatEngine, SimpleChatEngine\n",
    "from llama_index.core.memory import ChatMemoryBuffer\n",
    "\n",
    "memory = ChatMemoryBuffer.from_defaults(token_limit=1000)\n",
    "\n",
    "chat_engine = ContextChatEngine.from_defaults(\n",
    "    retriever=retriever,\n",
    "    context_template=(\n",
    "        \"You are an advising education enrollment chatbot for VNUHCM - University of Information Technology (UIT), able to have normal interactions.\"\n",
    "        \"Here are the relevant documents for the context:\\n\"\n",
    "        \"{context_str}\"\n",
    "        \"\\nInstruction: Use the previous chat history, or the context above, to interact and help the user.\"\n",
    "    ),\n",
    ")"
   ]
  },
  {
   "cell_type": "code",
   "execution_count": 59,
   "metadata": {},
   "outputs": [
    {
     "name": "stdout",
     "output_type": "stream",
     "text": [
      "\u001b[1;3;34mRetrieving with query id None: Bạn là ai?\n",
      "\u001b[0m\u001b[1;3;38;5;200mRetrieved node with id, entering: 5276e1ce-9f3a-4f7b-b8bc-6f13f8ddde4f\n",
      "\u001b[0m\u001b[1;3;34mRetrieving with query id 5276e1ce-9f3a-4f7b-b8bc-6f13f8ddde4f: Bạn là ai?\n",
      "\u001b[0m\u001b[1;3;38;5;200mRetrieved node with id, entering: 62169517-3883-4eab-a87e-02bf72999c4d\n",
      "\u001b[0m\u001b[1;3;34mRetrieving with query id 62169517-3883-4eab-a87e-02bf72999c4d: Bạn là ai?\n",
      "\u001b[0m\u001b[1;3;38;5;200mRetrieved node with id, entering: 87a8a037-317b-4c22-a3bf-b5d19bda6b37\n",
      "\u001b[0m\u001b[1;3;34mRetrieving with query id 87a8a037-317b-4c22-a3bf-b5d19bda6b37: Bạn là ai?\n",
      "\u001b[0m\u001b[1;3;38;5;200mRetrieved node with id, entering: b09ec4e1-330e-45e1-b5e6-26537be0a3aa\n",
      "\u001b[0m\u001b[1;3;34mRetrieving with query id b09ec4e1-330e-45e1-b5e6-26537be0a3aa: Bạn là ai?\n",
      "\u001b[0m\u001b[1;3;38;5;200mRetrieved node with id, entering: db25244b-a585-4d73-a6ff-735c4dac860a\n",
      "\u001b[0m\u001b[1;3;34mRetrieving with query id db25244b-a585-4d73-a6ff-735c4dac860a: Bạn là ai?\n",
      "\u001b[0m\u001b[1;3;38;5;200mRetrieved node with id, entering: 0b3a1557-53d7-4a44-8793-ac0cfddf2dcc\n",
      "\u001b[0m\u001b[1;3;34mRetrieving with query id 0b3a1557-53d7-4a44-8793-ac0cfddf2dcc: Bạn là ai?\n",
      "\u001b[0m\u001b[1;3;38;5;200mRetrieved node with id, entering: d5b8610d-f3f8-4de4-ac55-cc965a7bb6e0\n",
      "\u001b[0m\u001b[1;3;34mRetrieving with query id d5b8610d-f3f8-4de4-ac55-cc965a7bb6e0: Bạn là ai?\n",
      "\u001b[0m\u001b[1;3;38;5;200mRetrieved node with id, entering: f974aa51-71b3-45f2-9bc9-e90c75328f07\n",
      "\u001b[0m\u001b[1;3;34mRetrieving with query id f974aa51-71b3-45f2-9bc9-e90c75328f07: Bạn là ai?\n",
      "\u001b[0m\u001b[1;3;38;5;200mRetrieved node with id, entering: 705e9180-732b-435d-a660-8bd7bc7a9c42\n",
      "\u001b[0m\u001b[1;3;34mRetrieving with query id 705e9180-732b-435d-a660-8bd7bc7a9c42: Bạn là ai?\n",
      "\u001b[0m\u001b[1;3;38;5;200mRetrieved node with id, entering: 401fcc94-f4b2-4e2b-92e4-e9331c502fcd\n",
      "\u001b[0m\u001b[1;3;34mRetrieving with query id 401fcc94-f4b2-4e2b-92e4-e9331c502fcd: Bạn là ai?\n",
      "\u001b[0m"
     ]
    },
    {
     "name": "stderr",
     "output_type": "stream",
     "text": [
      "BM25Retriever does not support embeddings, skipping...\n"
     ]
    }
   ],
   "source": [
    "chat_engine.reset()\n",
    "memory.reset()\n",
    "\n",
    "chat_engine.chat(\"Bạn là ai?\", chat_history=memory.get_all())\n",
    "\n",
    "memory.set(chat_engine.chat_history)"
   ]
  },
  {
   "cell_type": "code",
   "execution_count": 60,
   "metadata": {},
   "outputs": [
    {
     "name": "stdout",
     "output_type": "stream",
     "text": [
      "\u001b[1;3;34mRetrieving with query id None: Tôi tên là Đại, tôi muốn biết điểm chuẩn ngành Khoa học máy tính 2022\n",
      "\u001b[0m"
     ]
    },
    {
     "name": "stderr",
     "output_type": "stream",
     "text": [
      "BM25Retriever does not support embeddings, skipping...\n"
     ]
    },
    {
     "name": "stdout",
     "output_type": "stream",
     "text": [
      "\u001b[1;3;38;5;200mRetrieved node with id, entering: f974aa51-71b3-45f2-9bc9-e90c75328f07\n",
      "\u001b[0m\u001b[1;3;34mRetrieving with query id f974aa51-71b3-45f2-9bc9-e90c75328f07: Tôi tên là Đại, tôi muốn biết điểm chuẩn ngành Khoa học máy tính 2022\n",
      "\u001b[0m\u001b[1;3;38;5;200mRetrieved node with id, entering: 23cccb5a-47f0-4d0a-9f14-5698e728ebdc\n",
      "\u001b[0m\u001b[1;3;34mRetrieving with query id 23cccb5a-47f0-4d0a-9f14-5698e728ebdc: Tôi tên là Đại, tôi muốn biết điểm chuẩn ngành Khoa học máy tính 2022\n",
      "\u001b[0m\u001b[1;3;38;5;200mRetrieved node with id, entering: aef20c66-bc37-4bd5-ae7f-b3d3ac15d6fb\n",
      "\u001b[0m\u001b[1;3;34mRetrieving with query id aef20c66-bc37-4bd5-ae7f-b3d3ac15d6fb: Tôi tên là Đại, tôi muốn biết điểm chuẩn ngành Khoa học máy tính 2022\n",
      "\u001b[0m\u001b[1;3;38;5;200mRetrieved node with id, entering: aacc196e-64ba-4092-a560-5b92a45e8eb6\n",
      "\u001b[0m\u001b[1;3;34mRetrieving with query id aacc196e-64ba-4092-a560-5b92a45e8eb6: Tôi tên là Đại, tôi muốn biết điểm chuẩn ngành Khoa học máy tính 2022\n",
      "\u001b[0m\u001b[1;3;38;5;200mRetrieved node with id, entering: 93378231-34cf-480d-a2f8-1405e72ac165\n",
      "\u001b[0m\u001b[1;3;34mRetrieving with query id 93378231-34cf-480d-a2f8-1405e72ac165: Tôi tên là Đại, tôi muốn biết điểm chuẩn ngành Khoa học máy tính 2022\n",
      "\u001b[0m\u001b[1;3;38;5;200mRetrieved node with id, entering: 0b3a1557-53d7-4a44-8793-ac0cfddf2dcc\n",
      "\u001b[0m\u001b[1;3;34mRetrieving with query id 0b3a1557-53d7-4a44-8793-ac0cfddf2dcc: Tôi tên là Đại, tôi muốn biết điểm chuẩn ngành Khoa học máy tính 2022\n",
      "\u001b[0m"
     ]
    }
   ],
   "source": [
    "chat_engine.reset()\n",
    "\n",
    "chat_engine.chat(\"Tôi tên là Đại, tôi muốn biết điểm chuẩn ngành Khoa học máy tính 2022\", chat_history=memory.get_all())\n",
    "\n",
    "memory.set(chat_engine.chat_history)"
   ]
  },
  {
   "cell_type": "code",
   "execution_count": 61,
   "metadata": {},
   "outputs": [
    {
     "name": "stdout",
     "output_type": "stream",
     "text": [
      "\u001b[1;3;34mRetrieving with query id None: Điểm chuẩn ngành Khoa học máy tính 2021\n",
      "\u001b[0m"
     ]
    },
    {
     "name": "stderr",
     "output_type": "stream",
     "text": [
      "BM25Retriever does not support embeddings, skipping...\n"
     ]
    },
    {
     "name": "stdout",
     "output_type": "stream",
     "text": [
      "\u001b[1;3;38;5;200mRetrieved node with id, entering: aef20c66-bc37-4bd5-ae7f-b3d3ac15d6fb\n",
      "\u001b[0m\u001b[1;3;34mRetrieving with query id aef20c66-bc37-4bd5-ae7f-b3d3ac15d6fb: Điểm chuẩn ngành Khoa học máy tính 2021\n",
      "\u001b[0m\u001b[1;3;38;5;200mRetrieved node with id, entering: 93378231-34cf-480d-a2f8-1405e72ac165\n",
      "\u001b[0m\u001b[1;3;34mRetrieving with query id 93378231-34cf-480d-a2f8-1405e72ac165: Điểm chuẩn ngành Khoa học máy tính 2021\n",
      "\u001b[0m\u001b[1;3;38;5;200mRetrieved node with id, entering: 0b3a1557-53d7-4a44-8793-ac0cfddf2dcc\n",
      "\u001b[0m\u001b[1;3;34mRetrieving with query id 0b3a1557-53d7-4a44-8793-ac0cfddf2dcc: Điểm chuẩn ngành Khoa học máy tính 2021\n",
      "\u001b[0m\u001b[1;3;38;5;200mRetrieved node with id, entering: f974aa51-71b3-45f2-9bc9-e90c75328f07\n",
      "\u001b[0m\u001b[1;3;34mRetrieving with query id f974aa51-71b3-45f2-9bc9-e90c75328f07: Điểm chuẩn ngành Khoa học máy tính 2021\n",
      "\u001b[0m\u001b[1;3;38;5;200mRetrieved node with id, entering: 23cccb5a-47f0-4d0a-9f14-5698e728ebdc\n",
      "\u001b[0m\u001b[1;3;34mRetrieving with query id 23cccb5a-47f0-4d0a-9f14-5698e728ebdc: Điểm chuẩn ngành Khoa học máy tính 2021\n",
      "\u001b[0m\u001b[1;3;38;5;200mRetrieved node with id, entering: 466a4048-b647-464d-99d9-fbbef0152130\n",
      "\u001b[0m\u001b[1;3;34mRetrieving with query id 466a4048-b647-464d-99d9-fbbef0152130: Điểm chuẩn ngành Khoa học máy tính 2021\n",
      "\u001b[0m"
     ]
    }
   ],
   "source": [
    "chat_engine.reset()\n",
    "chat_engine.chat(\"Điểm chuẩn ngành Khoa học máy tính 2021\", chat_history=memory.get_all())\n",
    "\n",
    "memory.set(chat_engine.chat_history)"
   ]
  },
  {
   "cell_type": "code",
   "execution_count": 62,
   "metadata": {},
   "outputs": [
    {
     "name": "stdout",
     "output_type": "stream",
     "text": [
      "\u001b[1;3;34mRetrieving with query id None: Điểm chuẩn ngành Khoa học máy tính 2021 so với 2022\n",
      "\u001b[0m"
     ]
    },
    {
     "name": "stderr",
     "output_type": "stream",
     "text": [
      "BM25Retriever does not support embeddings, skipping...\n"
     ]
    },
    {
     "name": "stdout",
     "output_type": "stream",
     "text": [
      "\u001b[1;3;38;5;200mRetrieved node with id, entering: 93378231-34cf-480d-a2f8-1405e72ac165\n",
      "\u001b[0m\u001b[1;3;34mRetrieving with query id 93378231-34cf-480d-a2f8-1405e72ac165: Điểm chuẩn ngành Khoa học máy tính 2021 so với 2022\n",
      "\u001b[0m\u001b[1;3;38;5;200mRetrieved node with id, entering: aef20c66-bc37-4bd5-ae7f-b3d3ac15d6fb\n",
      "\u001b[0m\u001b[1;3;34mRetrieving with query id aef20c66-bc37-4bd5-ae7f-b3d3ac15d6fb: Điểm chuẩn ngành Khoa học máy tính 2021 so với 2022\n",
      "\u001b[0m\u001b[1;3;38;5;200mRetrieved node with id, entering: f974aa51-71b3-45f2-9bc9-e90c75328f07\n",
      "\u001b[0m\u001b[1;3;34mRetrieving with query id f974aa51-71b3-45f2-9bc9-e90c75328f07: Điểm chuẩn ngành Khoa học máy tính 2021 so với 2022\n",
      "\u001b[0m\u001b[1;3;38;5;200mRetrieved node with id, entering: 0b3a1557-53d7-4a44-8793-ac0cfddf2dcc\n",
      "\u001b[0m\u001b[1;3;34mRetrieving with query id 0b3a1557-53d7-4a44-8793-ac0cfddf2dcc: Điểm chuẩn ngành Khoa học máy tính 2021 so với 2022\n",
      "\u001b[0m\u001b[1;3;38;5;200mRetrieved node with id, entering: da33359d-f272-4284-bdf7-78080601621e\n",
      "\u001b[0m\u001b[1;3;34mRetrieving with query id da33359d-f272-4284-bdf7-78080601621e: Điểm chuẩn ngành Khoa học máy tính 2021 so với 2022\n",
      "\u001b[0m\u001b[1;3;38;5;200mRetrieved node with id, entering: 23cccb5a-47f0-4d0a-9f14-5698e728ebdc\n",
      "\u001b[0m\u001b[1;3;34mRetrieving with query id 23cccb5a-47f0-4d0a-9f14-5698e728ebdc: Điểm chuẩn ngành Khoa học máy tính 2021 so với 2022\n",
      "\u001b[0m"
     ]
    }
   ],
   "source": [
    "chat_engine.reset()\n",
    "chat_engine.chat(\"Điểm chuẩn ngành Khoa học máy tính 2021 so với 2022\", chat_history=memory.get_all())\n",
    "\n",
    "memory.set(chat_engine.chat_history)"
   ]
  },
  {
   "cell_type": "code",
   "execution_count": 64,
   "metadata": {},
   "outputs": [
    {
     "name": "stdout",
     "output_type": "stream",
     "text": [
      "user            : Bạn là ai?\n",
      "\n",
      "assistant       : Xin chào! Mình là chatbot hỗ trợ tư vấn về việc xét tuyển vào Trường Đại học Công nghệ Thông tin - ĐHQG TP.HCM (UIT). Bạn có thắc mắc gì cần tư vấn không?\n",
      "\n",
      "user            : Tôi tên là Đại, tôi muốn biết điểm chuẩn ngành Khoa học máy tính 2022\n",
      "\n",
      "assistant       : Điểm chuẩn ngành Khoa học máy tính năm 2022 là 27.1 điểm. Bạn cần thêm thông tin gì khác không?\n",
      "\n",
      "user            : Điểm chuẩn ngành Khoa học máy tính 2021\n",
      "\n",
      "assistant       : Điểm chuẩn ngành Khoa học máy tính năm 2021 là 27.3 điểm. Nếu cần thêm thông tin hoặc có câu hỏi nào khác, bạn hãy thoải mái hỏi nhé!\n",
      "\n",
      "user            : Điểm chuẩn ngành Khoa học máy tính 2021 so với 2022\n",
      "\n",
      "assistant       : Điểm chuẩn ngành Khoa học máy tính giữa năm 2021 và 2022 có sự thay đổi như sau:\n",
      "- Năm 2021: Điểm chuẩn ngành Khoa học máy tính là 27.3 điểm.\n",
      "- Năm 2022: Điểm chuẩn ngành Khoa học máy tính là 27.1 điểm.\n",
      "Nếu bạn cần thêm thông tin hoặc có câu hỏi khác, đừng ngần ngại để lại cho mình biết nhé!\n",
      "\n"
     ]
    }
   ],
   "source": [
    "for msg in memory.get_all():\n",
    "    print(f\"{msg.role:<15} : {msg.content}\")\n",
    "    print()"
   ]
  }
 ],
 "metadata": {
  "kernelspec": {
   "display_name": "cb_uit",
   "language": "python",
   "name": "python3"
  },
  "language_info": {
   "codemirror_mode": {
    "name": "ipython",
    "version": 3
   },
   "file_extension": ".py",
   "mimetype": "text/x-python",
   "name": "python",
   "nbconvert_exporter": "python",
   "pygments_lexer": "ipython3",
   "version": "3.10.14"
  }
 },
 "nbformat": 4,
 "nbformat_minor": 2
}
